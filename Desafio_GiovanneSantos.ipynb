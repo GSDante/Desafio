{
  "nbformat": 4,
  "nbformat_minor": 0,
  "metadata": {
    "colab": {
      "name": "Desafio-GiovanneSantos.ipynb",
      "provenance": [],
      "collapsed_sections": [],
      "authorship_tag": "ABX9TyN1by121kV4DhuycybmXiIO",
      "include_colab_link": true
    },
    "kernelspec": {
      "name": "python3",
      "display_name": "Python 3"
    },
    "language_info": {
      "name": "python"
    }
  },
  "cells": [
    {
      "cell_type": "markdown",
      "metadata": {
        "id": "view-in-github",
        "colab_type": "text"
      },
      "source": [
        "<a href=\"https://colab.research.google.com/github/GSDante/Desafio/blob/main/Desafio_GiovanneSantos.ipynb\" target=\"_parent\"><img src=\"https://colab.research.google.com/assets/colab-badge.svg\" alt=\"Open In Colab\"/></a>"
      ]
    },
    {
      "cell_type": "code",
      "metadata": {
        "colab": {
          "base_uri": "https://localhost:8080/",
          "height": 317
        },
        "id": "M8LoeCaka6ST",
        "outputId": "942554eb-f279-47d0-ac89-6dcfd69ca1cf"
      },
      "source": [
        "import numpy as np\n",
        "import pandas as pd\n",
        "import cv2 \n",
        "from google.colab.patches import cv2_imshow # for image display\n",
        "from skimage import io\n",
        "from PIL import Image \n",
        "from collections import Counter\n",
        "import matplotlib.pylab as plt\n",
        "from scipy.signal import correlate\n",
        "\n",
        "\n",
        "\n",
        "url = \"https://i.imgur.com/kHtsQQy.png\"\n",
        "image = io.imread(url) \n",
        "cv2_imshow(image)"
      ],
      "execution_count": 10,
      "outputs": [
        {
          "output_type": "display_data",
          "data": {
            "image/png": "[encoded data removed]",
            "text/plain": [
              "<PIL.Image.Image image mode=RGBA size=420x300 at 0x7F5632EFBF50>"
            ]
          },
          "metadata": {
            "tags": []
          }
        }
      ]
    },
    {
      "cell_type": "markdown",
      "metadata": {
        "id": "tcR47XmubgfF"
      },
      "source": [
        "##1.Conte a quantidande de pixels verdes:"
      ]
    },
    {
      "cell_type": "markdown",
      "metadata": {
        "id": "UI_tJngYpvAg"
      },
      "source": [
        "###Passando a imagem para escala em cinza, pois iráá facilitar na classificaçãão de cores:"
      ]
    },
    {
      "cell_type": "code",
      "metadata": {
        "colab": {
          "base_uri": "https://localhost:8080/",
          "height": 317
        },
        "id": "rz8KmjEbpuKm",
        "outputId": "50d23a35-ebe5-4f91-fa6b-b73b2321e1c7"
      },
      "source": [
        "image_gray = cv2.cvtColor(image, cv2.COLOR_BGR2GRAY)\n",
        "cv2_imshow(image_gray)"
      ],
      "execution_count": 11,
      "outputs": [
        {
          "output_type": "display_data",
          "data": {
            "image/png": "[encoded data removed]",
            "text/plain": [
              "<PIL.Image.Image image mode=L size=420x300 at 0x7F5632EFBC90>"
            ]
          },
          "metadata": {
            "tags": []
          }
        }
      ]
    },
    {
      "cell_type": "markdown",
      "metadata": {
        "id": "yy_2CKhvqmmM"
      },
      "source": [
        "###Agora iremos verificar quais valores há diferente de 0 e 255, ou seja, que não são pixels brancos e nem pixels pretos:"
      ]
    },
    {
      "cell_type": "code",
      "metadata": {
        "colab": {
          "base_uri": "https://localhost:8080/"
        },
        "id": "NKYfvbceudPg",
        "outputId": "acbbae62-4f63-4b15-d694-68dc0e26c58d"
      },
      "source": [
        "values = {}\n",
        "for i in range(image_gray.shape[0]):\n",
        "  for j in range(image_gray.shape[1]):\n",
        "    if image_gray[i][j] != 0 and image_gray[i][j] != 255:\n",
        "      if (image_gray[i][j] in values):\n",
        "        values[image_gray[i][j]] += 1\n",
        "      else:\n",
        "        values[image_gray[i][j]] = 1\n",
        "\n",
        "for key, value in values.items():\n",
        "        print (\"% d : % d pixels\"%(key, value))"
      ],
      "execution_count": 12,
      "outputs": [
        {
          "output_type": "stream",
          "text": [
            " 124 :  298 pixels\n"
          ],
          "name": "stdout"
        }
      ]
    },
    {
      "cell_type": "markdown",
      "metadata": {
        "id": "YVG2JXSavLX5"
      },
      "source": [
        "###Então, como só há esse valor diferente de 0 e 255, então temos que 124 representa os pixels verdes em escala de cinza, logo háá 298 pixels verdes na imagem."
      ]
    },
    {
      "cell_type": "markdown",
      "metadata": {
        "id": "zPoy-S0WffHR"
      },
      "source": [
        "##2. A imagem possui uma mensagem escondida, descubra qual a mensagem."
      ]
    },
    {
      "cell_type": "markdown",
      "metadata": {
        "id": "2U75zTpIfsa0"
      },
      "source": [
        "Primeiramente, irei remover a mensangem \"Syngenta Digital Hire me\", ou seja, os pixels brancos:"
      ]
    },
    {
      "cell_type": "code",
      "metadata": {
        "colab": {
          "base_uri": "https://localhost:8080/",
          "height": 317
        },
        "id": "1UD8Pmrjf4Xm",
        "outputId": "16aa93f5-44f5-4010-ea5d-d3ff595a2dbb"
      },
      "source": [
        "for i in range(image_gray.shape[0]):\n",
        "  for j in range(image_gray.shape[1]):\n",
        "    if image_gray[i][j] == 255:\n",
        "      image_gray[i][j] = 0\n",
        "\n",
        "cv2_imshow(image_gray)"
      ],
      "execution_count": 13,
      "outputs": [
        {
          "output_type": "display_data",
          "data": {
            "image/png": "[encoded data removed]",
            "text/plain": [
              "<PIL.Image.Image image mode=L size=420x300 at 0x7F56327C79D0>"
            ]
          },
          "metadata": {
            "tags": []
          }
        }
      ]
    },
    {
      "cell_type": "markdown",
      "metadata": {
        "id": "9e20ypXIgd2D"
      },
      "source": [
        "Agora, na primeira tentativa, irei aplicar dilatação e erosão para tentar identificar algum padrão. Em seguida, utilizarei um detecto de bordas que usa a téécnica de Canny."
      ]
    },
    {
      "cell_type": "code",
      "metadata": {
        "colab": {
          "base_uri": "https://localhost:8080/",
          "height": 721
        },
        "id": "G_slbceFk1V0",
        "outputId": "ffa22fb8-c198-458c-caef-c924c9847368"
      },
      "source": [
        "kernel = np.ones((5,5),np.uint8)\n",
        "\n",
        "\n",
        "#Utilizando erosão e dilatão para para criar as bordas das imagens \n",
        "dilation = cv2.dilate(image_gray,kernel,iterations = 5)\n",
        "erosion = cv2.erode(dilation,kernel,iterations = 2)\n",
        "\n",
        "\n",
        "\n",
        "print(\"\\n                                Imagem erodida                                \\n\")\n",
        "cv2_imshow(erosion)\n",
        "\n",
        "edges = cv2.Canny(erosion,50,100)\n",
        "brasil_c = image_gray.copy()\n",
        "kernelEdges = np.ones((3,3),np.uint8)\n",
        "\n",
        "#Aplicando dilatação para reforçar as bordas\n",
        "edges = cv2.dilate(edges,kernelEdges,iterations = 1)\n",
        "print(\"\\nBordas Encontradas\\n\")\n",
        "cv2_imshow(edges)"
      ],
      "execution_count": 14,
      "outputs": [
        {
          "output_type": "stream",
          "text": [
            "\n",
            "                                Imagem erodida                                \n",
            "\n"
          ],
          "name": "stdout"
        },
        {
          "output_type": "display_data",
          "data": {
            "image/png": "[encoded data removed]",
            "text/plain": [
              "<PIL.Image.Image image mode=L size=420x300 at 0x7F5632791BD0>"
            ]
          },
          "metadata": {
            "tags": []
          }
        },
        {
          "output_type": "stream",
          "text": [
            "\n",
            "Bordas Encontradas\n",
            "\n"
          ],
          "name": "stdout"
        },
        {
          "output_type": "display_data",
          "data": {
            "image/png": "[encoded data removed]",
            "text/plain": [
              "<PIL.Image.Image image mode=L size=420x300 at 0x7F5632791E10>"
            ]
          },
          "metadata": {
            "tags": []
          }
        }
      ]
    },
    {
      "cell_type": "markdown",
      "metadata": {
        "id": "fiQhy9CyK-Cm"
      },
      "source": [
        "Nesta tentativa, tenho algumas letras formadas pelas bordas como o \"S\" e \"E\" na parte do esquerda e meio da imagem, \"A\", \"G\" e \"A\"."
      ]
    }
  ]
}